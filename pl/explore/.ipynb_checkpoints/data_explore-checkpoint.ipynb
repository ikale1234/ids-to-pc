{
 "cells": [
  {
   "cell_type": "code",
   "execution_count": 26,
   "id": "278ea6e1-13d5-46db-aa29-ecc151c0b82e",
   "metadata": {},
   "outputs": [],
   "source": [
    "from itertools import chain\n",
    "from pathlib import Path\n",
    "from typing import Hashable\n",
    "\n",
    "import numpy as np\n",
    "import tensorflow as tf\n"
   ]
  },
  {
   "cell_type": "code",
   "execution_count": 21,
   "id": "254364da-a464-4362-8965-1c367cab3296",
   "metadata": {},
   "outputs": [
    {
     "name": "stderr",
     "output_type": "stream",
     "text": [
      "IOPub data rate exceeded.\n",
      "The Jupyter server will temporarily stop sending output\n",
      "to the client in order to avoid crashing it.\n",
      "To change this limit, set the config variable\n",
      "`--ServerApp.iopub_data_rate_limit`.\n",
      "\n",
      "Current values:\n",
      "ServerApp.iopub_data_rate_limit=1000000.0 (bytes/sec)\n",
      "ServerApp.rate_limit_window=3.0 (secs)\n",
      "\n"
     ]
    }
   ],
   "source": [
    "plaid = np.load('out/plaid.npz', allow_pickle=True)\n",
    "plaid = plaid['arr_0']\n",
    "print(plaid[0])"
   ]
  },
  {
   "cell_type": "code",
   "execution_count": 27,
   "id": "4fb03ffd-ac9c-4fad-8503-08f662b0ebf7",
   "metadata": {},
   "outputs": [],
   "source": [
    "def load_files(data_set, nested=False):\n",
    "    \"\"\"Loads requested system call data set from disk\n",
    "\n",
    "    Parameters\n",
    "    ----------\n",
    "    data_set : {\"adfa\", \"plaid\"}\n",
    "        The data set to be returned.\n",
    "    nested : bool\n",
    "        Return attack sequences nested by application. Default False returns a flat list.\n",
    "\n",
    "    Returns\n",
    "    -------\n",
    "    attack_sequences : List[List[str]] or List[List[List[str]]]\n",
    "        List of attack system call sequences. When nested=False each element is an attack sequence represented as a list\n",
    "        of strings. If nested=True each element is a list of all attack sequences belonging to a single application.\n",
    "    base_sequences : List[List[str]]\n",
    "        List of baseline system call sequences.\n",
    "\n",
    "    \"\"\"\n",
    "    if data_set not in [\"adfa\", \"plaid\"]:\n",
    "        raise ValueError(\"data_set must be on of (adfa, plaid)\")\n",
    "\n",
    "    def get_seq(files):\n",
    "        ret = []\n",
    "        for f in files:\n",
    "            with open(f) as file:\n",
    "                seq = file.read().strip().split(\" \")\n",
    "                if 4495 >= len(seq) >= 8:\n",
    "                    ret.append(seq)\n",
    "        return ret\n",
    "\n",
    "    if data_set == \"plaid\":\n",
    "        attack_files = sorted(list(Path(\"../data/PLAID/attack\").rglob(\"*.txt\")))\n",
    "        baseline_files = Path(\"../data/PLAID/baseline\").rglob(\"*.txt\")\n",
    "    else:\n",
    "        root_path = Path(\"../data/ADFA_decoded_i386/\")\n",
    "        attack_files = sorted(list((root_path / \"Attack_Data_Master\").rglob(\"*.txt\")))\n",
    "        baseline_files = list((root_path / \"Validation_Data_Master\").rglob(\"*.txt\"))\n",
    "        baseline_files.extend((root_path / \"Training_Data_Master\").rglob(\"*.txt\"))\n",
    "\n",
    "    if nested:\n",
    "        attack_sequences = []\n",
    "        folders = set([x.parent for x in attack_files])\n",
    "        for folder in folders:\n",
    "            tmp = [x for x in attack_files if x.parent == folder]\n",
    "            attack_sequences.append(get_seq(tmp))\n",
    "    else:\n",
    "        attack_sequences = get_seq(attack_files)\n",
    "    base_sequences = get_seq(baseline_files)\n",
    "    return attack_sequences, base_sequences\n",
    "\n"
   ]
  },
  {
   "cell_type": "code",
   "execution_count": 28,
   "id": "4c1ebaa1-513a-44f2-b554-8a7c1472f6b4",
   "metadata": {},
   "outputs": [],
   "source": [
    "class Encoder:\n",
    "    \"\"\"Converts data to a dense integer encoding\n",
    "\n",
    "    Attributes:\n",
    "        file_path: location to save/load syscall map\n",
    "        syscall_map: mapping from item to encoded value\n",
    "    \"\"\"\n",
    "\n",
    "    file_path = Path()\n",
    "    syscall_map: dict = dict()\n",
    "\n",
    "    def __init__(self, file_path: str) -> None:\n",
    "        self.file_path = Path(file_path)\n",
    "        if self.file_path.exists():\n",
    "            self.syscall_map = np.load(self.file_path, allow_pickle=True).item()\n",
    "\n",
    "    def encode(self, syscall: Hashable) -> int:\n",
    "        \"\"\"Encodes an individual item\n",
    "\n",
    "        Unique items are sequentially encoded (ie first item -> 0 next unique item -> 1). The mapping dict is updated\n",
    "        with new encodings as necessary and immediately written to disk.\n",
    "\n",
    "        Args:\n",
    "            syscall: item to encode\n",
    "\n",
    "        Returns:\n",
    "            integer encoding of syscall\n",
    "        \"\"\"\n",
    "        if syscall in self.syscall_map:\n",
    "            return self.syscall_map[syscall]\n",
    "        syscall_enc = len(self.syscall_map) + 1\n",
    "        self.syscall_map[syscall] = syscall_enc\n",
    "        np.save(self.file_path, self.syscall_map)\n",
    "\n",
    "        return syscall_enc\n"
   ]
  },
  {
   "cell_type": "code",
   "execution_count": 29,
   "id": "dfc7d211-e4dd-49e7-816d-16f272ea49b4",
   "metadata": {},
   "outputs": [],
   "source": [
    "atk_files, normal_files = load_files(\"plaid\")"
   ]
  },
  {
   "cell_type": "code",
   "execution_count": 30,
   "id": "ceb96f4a-2955-43d7-8de1-17ae830ca872",
   "metadata": {},
   "outputs": [
    {
     "name": "stdout",
     "output_type": "stream",
     "text": [
      "0\n"
     ]
    }
   ],
   "source": [
    "print(len(atk_files))"
   ]
  },
  {
   "cell_type": "code",
   "execution_count": null,
   "id": "fbf0bf47-d95c-423c-a55a-55fbc61622e6",
   "metadata": {},
   "outputs": [],
   "source": []
  }
 ],
 "metadata": {
  "kernelspec": {
   "display_name": "Python 3 (ipykernel)",
   "language": "python",
   "name": "python3"
  },
  "language_info": {
   "codemirror_mode": {
    "name": "ipython",
    "version": 3
   },
   "file_extension": ".py",
   "mimetype": "text/x-python",
   "name": "python",
   "nbconvert_exporter": "python",
   "pygments_lexer": "ipython3",
   "version": "3.10.5"
  }
 },
 "nbformat": 4,
 "nbformat_minor": 5
}

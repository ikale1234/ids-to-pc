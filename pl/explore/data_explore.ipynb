{
 "cells": [
  {
   "cell_type": "code",
   "execution_count": 1,
   "id": "278ea6e1-13d5-46db-aa29-ecc151c0b82e",
   "metadata": {},
   "outputs": [],
   "source": [
    "from itertools import chain\n",
    "from pathlib import Path\n",
    "from typing import Hashable\n",
    "\n",
    "import numpy as np\n",
    "import tensorflow as tf\n"
   ]
  },
  {
   "cell_type": "code",
   "execution_count": 15,
   "id": "254364da-a464-4362-8965-1c367cab3296",
   "metadata": {},
   "outputs": [
    {
     "name": "stdout",
     "output_type": "stream",
     "text": [
      "62\n"
     ]
    }
   ],
   "source": [
    "plaid = np.load('../out/plaid.npz', allow_pickle=True)\n",
    "plaid = plaid['arr_0']\n",
    "print(len(plaid[0][0]))"
   ]
  },
  {
   "cell_type": "code",
   "execution_count": 21,
   "id": "4fb03ffd-ac9c-4fad-8503-08f662b0ebf7",
   "metadata": {},
   "outputs": [],
   "source": [
    "def load_files(data_set, nested=False):\n",
    "    \"\"\"Loads requested system call data set from disk\n",
    "\n",
    "    Parameters\n",
    "    ----------\n",
    "    data_set : {\"adfa\", \"plaid\"}\n",
    "        The data set to be returned.\n",
    "    nested : bool\n",
    "        Return attack sequences nested by application. Default False returns a flat list.\n",
    "\n",
    "    Returns\n",
    "    -------\n",
    "    attack_sequences : List[List[str]] or List[List[List[str]]]\n",
    "        List of attack system call sequences. When nested=False each element is an attack sequence represented as a list\n",
    "        of strings. If nested=True each element is a list of all attack sequences belonging to a single application.\n",
    "    base_sequences : List[List[str]]\n",
    "        List of baseline system call sequences.\n",
    "\n",
    "    \"\"\"\n",
    "    if data_set not in [\"adfa\", \"plaid\"]:\n",
    "        raise ValueError(\"data_set must be on of (adfa, plaid)\")\n",
    "\n",
    "    def get_seq(files):\n",
    "        ret = []\n",
    "        for f in files:\n",
    "            with open(f) as file:\n",
    "                seq = file.read().strip().split(\" \")\n",
    "                if 4495 >= len(seq) >= 8:\n",
    "                    ret.append(seq)\n",
    "        return ret\n",
    "\n",
    "    if data_set == \"plaid\":\n",
    "        attack_files = sorted(list(Path(\"../data/PLAID/attack\").rglob(\"*.txt\")))\n",
    "        baseline_files = Path(\"../data/PLAID/baseline\").rglob(\"*.txt\")\n",
    "    else:\n",
    "        root_path = Path(\"../data/ADFA_decoded_i386/\")\n",
    "        attack_files = sorted(list((root_path / \"Attack_Data_Master\").rglob(\"*.txt\")))\n",
    "        baseline_files = list((root_path / \"Validation_Data_Master\").rglob(\"*.txt\"))\n",
    "        baseline_files.extend((root_path / \"Training_Data_Master\").rglob(\"*.txt\"))\n",
    "\n",
    "    if nested:\n",
    "        attack_sequences = []\n",
    "        folders = set([x.parent for x in attack_files])\n",
    "        for folder in folders:\n",
    "            tmp = [x for x in attack_files if x.parent == folder]\n",
    "            attack_sequences.append(get_seq(tmp))\n",
    "    else:\n",
    "        attack_sequences = get_seq(attack_files)\n",
    "    base_sequences = get_seq(baseline_files)\n",
    "    return attack_sequences, base_sequences\n",
    "\n"
   ]
  },
  {
   "cell_type": "code",
   "execution_count": 19,
   "id": "4c1ebaa1-513a-44f2-b554-8a7c1472f6b4",
   "metadata": {},
   "outputs": [],
   "source": [
    "class Encoder:\n",
    "    \"\"\"Converts data to a dense integer encoding\n",
    "\n",
    "    Attributes:\n",
    "        file_path: location to save/load syscall map\n",
    "        syscall_map: mapping from item to encoded value\n",
    "    \"\"\"\n",
    "\n",
    "    file_path = Path()\n",
    "    syscall_map: dict = dict()\n",
    "\n",
    "    def __init__(self, file_path: str) -> None:\n",
    "        self.file_path = Path(file_path)\n",
    "        if self.file_path.exists():\n",
    "            self.syscall_map = np.load(self.file_path, allow_pickle=True).item()\n",
    "\n",
    "    def encode(self, syscall: Hashable) -> int:\n",
    "        \"\"\"Encodes an individual item\n",
    "\n",
    "        Unique items are sequentially encoded (ie first item -> 0 next unique item -> 1). The mapping dict is updated\n",
    "        with new encodings as necessary and immediately written to disk.\n",
    "\n",
    "        Args:\n",
    "            syscall: item to encode\n",
    "\n",
    "        Returns:\n",
    "            integer encoding of syscall\n",
    "        \"\"\"\n",
    "        if syscall in self.syscall_map:\n",
    "            return self.syscall_map[syscall]\n",
    "        syscall_enc = len(self.syscall_map) + 1\n",
    "        self.syscall_map[syscall] = syscall_enc\n",
    "        np.save(self.file_path, self.syscall_map)\n",
    "\n",
    "        return syscall_enc\n"
   ]
  },
  {
   "cell_type": "code",
   "execution_count": 22,
   "id": "dfc7d211-e4dd-49e7-816d-16f272ea49b4",
   "metadata": {},
   "outputs": [],
   "source": [
    "atk_files, normal_files = load_files(\"plaid\")"
   ]
  },
  {
   "cell_type": "code",
   "execution_count": 26,
   "id": "ceb96f4a-2955-43d7-8de1-17ae830ca872",
   "metadata": {},
   "outputs": [
    {
     "name": "stdout",
     "output_type": "stream",
     "text": [
      "1145\n"
     ]
    }
   ],
   "source": [
    "print(len(atk_files))"
   ]
  },
  {
   "cell_type": "code",
   "execution_count": 27,
   "id": "fbf0bf47-d95c-423c-a55a-55fbc61622e6",
   "metadata": {},
   "outputs": [
    {
     "name": "stdout",
     "output_type": "stream",
     "text": [
      "38178\n"
     ]
    }
   ],
   "source": [
    "print(len(normal_files))"
   ]
  },
  {
   "cell_type": "code",
   "execution_count": 29,
   "id": "e38c29a7-3064-4d9b-858e-5bce393c62f8",
   "metadata": {},
   "outputs": [
    {
     "name": "stdout",
     "output_type": "stream",
     "text": [
      "38178\n",
      "1145\n"
     ]
    }
   ],
   "source": [
    "print(len(plaid[0]) + len(plaid[1]) + len(plaid[2]))\n",
    "print(len(plaid[3]))"
   ]
  },
  {
   "cell_type": "code",
   "execution_count": 30,
   "id": "e6e2832e-96be-478b-89ff-254fa69bb01c",
   "metadata": {},
   "outputs": [],
   "source": [
    "atk = plaid[3]\n",
    "normal = plaid[0] + plaid[1] + plaid[2]"
   ]
  },
  {
   "cell_type": "code",
   "execution_count": 31,
   "id": "c5ec71c8-2d5e-446b-9617-fdd6104aa555",
   "metadata": {},
   "outputs": [
    {
     "name": "stdout",
     "output_type": "stream",
     "text": [
      "[ 18.   7.  30.   7.   7.  30.   7.   7.  30.   7.  46.   8.   9.  10.\n",
      "  10. 138. 172.  93.   7.  10. 138.  13. 172.  93.  93.  14.  93.  93.\n",
      "   7. 173.  14.  14.  14.  16. 174. 175.  43.  19. 176.   9.   9.  45.\n",
      " 177. 177. 176. 178.  19.  19.  19.  19.  19.  19. 179.   7. 179.  30.\n",
      "  39.  47. 168.  30.   7. 128.]\n"
     ]
    }
   ],
   "source": [
    "print(normal[0])"
   ]
  },
  {
   "cell_type": "code",
   "execution_count": 1,
   "id": "3e5675fa-b932-456a-8e37-9d2e338d25de",
   "metadata": {},
   "outputs": [
    {
     "ename": "NameError",
     "evalue": "name 'normal' is not defined",
     "output_type": "error",
     "traceback": [
      "\u001b[0;31m---------------------------------------------------------------------------\u001b[0m",
      "\u001b[0;31mNameError\u001b[0m                                 Traceback (most recent call last)",
      "Cell \u001b[0;32mIn[1], line 2\u001b[0m\n\u001b[1;32m      1\u001b[0m max_num \u001b[38;5;241m=\u001b[39m \u001b[38;5;241m0\u001b[39m\n\u001b[0;32m----> 2\u001b[0m \u001b[38;5;28;01mfor\u001b[39;00m i \u001b[38;5;129;01min\u001b[39;00m \u001b[38;5;28mrange\u001b[39m(\u001b[38;5;28mlen\u001b[39m(\u001b[43mnormal\u001b[49m)):\n\u001b[1;32m      3\u001b[0m     \u001b[38;5;28;01mfor\u001b[39;00m j \u001b[38;5;129;01min\u001b[39;00m \u001b[38;5;28mrange\u001b[39m(\u001b[38;5;28mlen\u001b[39m(normal[i])):\n\u001b[1;32m      4\u001b[0m         max_num \u001b[38;5;241m=\u001b[39m \u001b[38;5;28mmax\u001b[39m(max_num, normal[i][j])\n",
      "\u001b[0;31mNameError\u001b[0m: name 'normal' is not defined"
     ]
    }
   ],
   "source": [
    "max_num = 0\n",
    "for i in range(len(normal)):\n",
    "    for j in range(len(normal[i])):\n",
    "        max_num = max(max_num, normal[i][j])\n",
    "print(max_num)\n",
    "for i in range(len(atk)):\n",
    "    for j in range(len(atk[i])):\n",
    "        max_num = max(max_num, atk[i][j])\n",
    "print(max_num)\n",
    "# print(max_len)"
   ]
  },
  {
   "cell_type": "code",
   "execution_count": null,
   "id": "58e7d5d1-9f08-4736-bb9f-3800212c7564",
   "metadata": {},
   "outputs": [],
   "source": []
  }
 ],
 "metadata": {
  "kernelspec": {
   "display_name": "Python 3 (ipykernel)",
   "language": "python",
   "name": "python3"
  },
  "language_info": {
   "codemirror_mode": {
    "name": "ipython",
    "version": 3
   },
   "file_extension": ".py",
   "mimetype": "text/x-python",
   "name": "python",
   "nbconvert_exporter": "python",
   "pygments_lexer": "ipython3",
   "version": "3.10.5"
  }
 },
 "nbformat": 4,
 "nbformat_minor": 5
}

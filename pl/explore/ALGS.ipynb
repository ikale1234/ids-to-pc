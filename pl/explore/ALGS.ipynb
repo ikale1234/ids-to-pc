{
 "cells": [
  {
   "cell_type": "code",
   "execution_count": 1,
   "id": "07acb97d-12e8-48e0-8de2-b6df77123b57",
   "metadata": {},
   "outputs": [
    {
     "name": "stderr",
     "output_type": "stream",
     "text": [
      "/Library/Frameworks/Python.framework/Versions/3.10/lib/python3.10/site-packages/tqdm/auto.py:21: TqdmWarning: IProgress not found. Please update jupyter and ipywidgets. See https://ipywidgets.readthedocs.io/en/stable/user_install.html\n",
      "  from .autonotebook import tqdm as notebook_tqdm\n"
     ]
    }
   ],
   "source": [
    "from itertools import chain\n",
    "from pathlib import Path\n",
    "from typing import Hashable\n",
    "import numpy as np\n",
    "import pandas as pd\n",
    "from tensorflow.keras.models import Sequential\n",
    "from tensorflow.keras.layers import Input, LSTM, RepeatVector, Embedding, TimeDistributed, Dense, Dropout, Conv1D, GRU, BatchNormalization\n",
    "from tensorflow.keras.preprocessing.text import Tokenizer\n",
    "from tensorflow.keras.preprocessing.sequence import pad_sequences\n",
    "from sklearn.model_selection import train_test_split\n",
    "from sklearn.preprocessing import LabelEncoder, OneHotEncoder\n",
    "from tensorflow.keras.utils import to_categorical\n",
    "from tensorflow.keras.callbacks import EarlyStopping\n",
    "from tensorflow.keras import backend as K\n",
    "from sklearn.metrics import classification_report, confusion_matrix\n",
    "from sklearn.model_selection import train_test_split, GridSearchCV\n",
    "from deepod.metrics import tabular_metrics\n",
    "from sklearn.metrics import accuracy_score, precision_score, recall_score, f1_score\n",
    "import ast\n",
    "import torch"
   ]
  },
  {
   "cell_type": "code",
   "execution_count": 2,
   "id": "8f3ac639-945b-46da-abaf-79ad2859eb83",
   "metadata": {},
   "outputs": [],
   "source": [
    "plaid = np.load('../out/plaid.npz', allow_pickle=True)\n",
    "plaid = plaid['arr_0']\n",
    "atk = plaid[3]\n",
    "normal = plaid[0] + plaid[1] + plaid[2]\n"
   ]
  },
  {
   "cell_type": "code",
   "execution_count": 3,
   "id": "2bd58e22-bfbf-4edd-bd03-ef3ff2196075",
   "metadata": {},
   "outputs": [
    {
     "name": "stdout",
     "output_type": "stream",
     "text": [
      "2323 2323\n"
     ]
    }
   ],
   "source": [
    "np.random.shuffle(normal)\n",
    "train_X = normal[:37000]\n",
    "test_X = normal[37000:] + atk\n",
    "max_length = 2000\n",
    "train_X = pad_sequences(train_X, maxlen=max_length, padding='post')\n",
    "test_X = pad_sequences(test_X, maxlen=max_length, padding='post')\n",
    "test_Y = []\n",
    "norm_test = len(normal) - len(train_X)\n",
    "for i in range(norm_test):\n",
    "    test_Y.append(0)\n",
    "for i in range(len(atk)):\n",
    "    test_Y.append(1)\n",
    "print(len(test_X), len(test_Y))"
   ]
  },
  {
   "cell_type": "code",
   "execution_count": 4,
   "id": "f302cef2-b01c-4969-b0c7-d830cd593868",
   "metadata": {},
   "outputs": [],
   "source": [
    "train_X = np.array(train_X)\n",
    "test_X = np.array(test_X)\n",
    "test_Y = np.array(test_Y)"
   ]
  },
  {
   "cell_type": "code",
   "execution_count": 5,
   "id": "4f1c66e1-b38f-4567-bb73-c0d2fe99c51b",
   "metadata": {},
   "outputs": [],
   "source": [
    "from deepod.models.time_series import *"
   ]
  },
  {
   "cell_type": "code",
   "execution_count": 6,
   "id": "6dc0f92b-630e-4bc4-8708-2859a1891fe3",
   "metadata": {},
   "outputs": [
    {
     "name": "stdout",
     "output_type": "stream",
     "text": [
      "|>>> epoch: 01  |   loss: 231.847519, loss_oc: 231.764923, val_loss: 14.359663\n",
      "|>>> epoch: 02  |   loss: 9.787758, loss_oc: 9.726124, val_loss: 10.077424\n",
      "|>>> epoch: 03  |   loss: 7.542758, loss_oc: 7.488843, val_loss: 8.115606\n",
      "|>>> epoch: 04  |   loss: 6.369025, loss_oc: 6.318940, val_loss: 6.970551\n",
      "|>>> epoch: 05  |   loss: 5.511364, loss_oc: 5.463111, val_loss: 5.891752\n",
      "|>>> epoch: 06  |   loss: 4.935425, loss_oc: 4.889462, val_loss: 5.440456\n",
      "|>>> epoch: 07  |   loss: 4.487973, loss_oc: 4.443641, val_loss: 5.019156\n",
      "|>>> epoch: 08  |   loss: 4.387630, loss_oc: 4.343724, val_loss: 4.661003\n",
      "|>>> epoch: 09  |   loss: 3.950074, loss_oc: 3.907278, val_loss: 4.280840\n",
      "|>>> epoch: 10  |   loss: 3.782739, loss_oc: 3.741175, val_loss: 4.021345\n",
      "|>>> epoch: 11  |   loss: 3.661651, loss_oc: 3.620346, val_loss: 3.871691\n",
      "|>>> epoch: 12  |   loss: 3.468693, loss_oc: 3.427814, val_loss: 3.670423\n",
      "|>>> epoch: 13  |   loss: 3.299825, loss_oc: 3.259631, val_loss: 3.626865\n",
      "|>>> epoch: 14  |   loss: 3.287280, loss_oc: 3.247625, val_loss: 3.341372\n",
      "|>>> epoch: 15  |   loss: 3.124468, loss_oc: 3.085249, val_loss: 3.271762\n",
      "|>>> epoch: 16  |   loss: 2.921279, loss_oc: 2.881716, val_loss: 3.127566\n",
      "|>>> epoch: 17  |   loss: 2.810591, loss_oc: 2.771228, val_loss: 3.073521\n",
      "|>>> epoch: 18  |   loss: 2.753658, loss_oc: 2.715636, val_loss: 2.870858\n",
      "|>>> epoch: 19  |   loss: 2.676680, loss_oc: 2.638627, val_loss: 2.699203\n",
      "|>>> epoch: 20  |   loss: 2.635958, loss_oc: 2.597986, val_loss: 2.828423\n",
      "|>>> epoch: 21  |   loss: 2.662354, loss_oc: 2.624388, val_loss: 2.741677\n",
      "|>>> epoch: 22  |   loss: 2.541610, loss_oc: 2.504618, val_loss: 2.563548\n",
      "|>>> epoch: 23  |   loss: 2.454750, loss_oc: 2.417738, val_loss: 2.479678\n",
      "|>>> epoch: 24  |   loss: 2.376966, loss_oc: 2.340536, val_loss: 2.444275\n",
      "|>>> epoch: 25  |   loss: 2.306715, loss_oc: 2.270357, val_loss: 2.293906\n",
      "|>>> epoch: 26  |   loss: 2.247598, loss_oc: 2.211074, val_loss: 2.219211\n",
      "|>>> epoch: 27  |   loss: 2.140312, loss_oc: 2.104105, val_loss: 2.392486\n",
      "|>>> epoch: 28  |   loss: 2.079406, loss_oc: 2.043140, val_loss: 2.032126\n",
      "|>>> epoch: 29  |   loss: 2.010472, loss_oc: 1.973918, val_loss: 1.999806\n",
      "|>>> epoch: 30  |   loss: 1.871958, loss_oc: 1.835163, val_loss: 1.876642\n",
      "|>>> epoch: 31  |   loss: 1.724449, loss_oc: 1.687910, val_loss: 1.648400\n",
      "|>>> epoch: 32  |   loss: 1.561829, loss_oc: 1.525987, val_loss: 1.539210\n",
      "|>>> epoch: 33  |   loss: 1.358386, loss_oc: 1.322313, val_loss: 1.106296\n",
      "|>>> epoch: 34  |   loss: 0.905429, loss_oc: 0.870813, val_loss: 0.803261\n",
      "|>>> epoch: 35  |   loss: 0.725925, loss_oc: 0.693058, val_loss: 0.678896\n",
      "|>>> epoch: 36  |   loss: 0.592162, loss_oc: 0.558898, val_loss: 0.550956\n",
      "|>>> epoch: 37  |   loss: 0.563529, loss_oc: 0.529337, val_loss: 0.515216\n",
      "|>>> epoch: 38  |   loss: 0.690270, loss_oc: 0.654835, val_loss: 0.679086\n",
      "|>>> epoch: 39  |   loss: 0.555727, loss_oc: 0.517783, val_loss: 0.452374\n",
      "|>>> epoch: 40  |   loss: 0.437280, loss_oc: 0.400019, val_loss: 0.383006\n"
     ]
    }
   ],
   "source": [
    "clf = COUTA()\n",
    "clf.device = torch.device('cpu')\n",
    "clf.fit(train_X)\n",
    "scores = clf.predict(test_X)"
   ]
  },
  {
   "cell_type": "code",
   "execution_count": 7,
   "id": "b3dcee8e-26f5-4aeb-aa63-71e05d7df4d3",
   "metadata": {},
   "outputs": [
    {
     "name": "stdout",
     "output_type": "stream",
     "text": [
      "Precision:  0.6373559733171619\n",
      "Recall:  0.8921901528013583\n",
      "f1:  0.7435443933498408\n"
     ]
    }
   ],
   "source": [
    "precision = precision_score(test_Y, scores, pos_label=0)\n",
    "recall = recall_score(test_Y, scores, pos_label=0)\n",
    "f1 = f1_score(test_Y, scores, pos_label=0)\n",
    "print(\"Precision: \",precision)\n",
    "print(\"Recall: \",recall)\n",
    "print(\"f1: \",f1)"
   ]
  },
  {
   "cell_type": "code",
   "execution_count": 11,
   "id": "a6c37a08-70e5-4f9e-bb67-31d0cdb6a2f5",
   "metadata": {},
   "outputs": [
    {
     "name": "stdout",
     "output_type": "stream",
     "text": [
      "epoch  1, training loss: 885.841881, time: 86.6s\n",
      "epoch  2, training loss: 591.055130, time: 85.9s\n",
      "epoch  3, training loss: 489.303961, time: 82.8s\n",
      "epoch  4, training loss: 589.308538, time: 81.8s\n",
      "epoch  5, training loss: 611.968646, time: 82.0s\n",
      "epoch  6, training loss: 522.994518, time: 89.7s\n",
      "epoch  7, training loss: 427.165651, time: 87.4s\n",
      "epoch  8, training loss: 463.557782, time: 87.7s\n",
      "epoch  9, training loss: 442.421362, time: 86.8s\n",
      "epoch 10, training loss: 511.625387, time: 86.8s\n"
     ]
    }
   ],
   "source": [
    "clf = TimesNet()\n",
    "clf.device = torch.device('cpu')\n",
    "clf.fit(train_X)\n",
    "scores = clf.predict(test_X)"
   ]
  },
  {
   "cell_type": "code",
   "execution_count": 12,
   "id": "42314ac8-c0ad-44ef-ae3c-fb1f7f72b21e",
   "metadata": {},
   "outputs": [
    {
     "name": "stdout",
     "output_type": "stream",
     "text": [
      "Precision:  0.6113931190073322\n",
      "Recall:  0.9202037351443124\n",
      "f1:  0.7346662148424263\n"
     ]
    }
   ],
   "source": [
    "precision = precision_score(test_Y, scores, pos_label=0)\n",
    "recall = recall_score(test_Y, scores, pos_label=0)\n",
    "f1 = f1_score(test_Y, scores, pos_label=0)\n",
    "print(\"Precision: \",precision)\n",
    "print(\"Recall: \",recall)\n",
    "print(\"f1: \",f1)"
   ]
  },
  {
   "cell_type": "code",
   "execution_count": 10,
   "id": "52679f66-2edb-48e3-896d-bfeea95b96c6",
   "metadata": {},
   "outputs": [
    {
     "name": "stdout",
     "output_type": "stream",
     "text": [
      "Start Training...\n",
      "ensemble size: 1\n",
      "TSTransformerEncoder(\n",
      "  (project_inp): TokenEmbedding(\n",
      "    (tokenConv): Conv1d(2000, 512, kernel_size=(3,), stride=(1,), padding=(1,), bias=False, padding_mode=circular)\n",
      "  )\n",
      "  (pos_enc): FixedPositionalEncoding()\n",
      "  (transformer_encoder): TransformerEncoder(\n",
      "    (layers): ModuleList(\n",
      "      (0): TransformerEncoderLayer(\n",
      "        (self_attn): MultiheadAttention(\n",
      "          (out_proj): NonDynamicallyQuantizableLinear(in_features=512, out_features=512, bias=True)\n",
      "        )\n",
      "        (conv1): Conv1d(512, 512, kernel_size=(1,), stride=(1,))\n",
      "        (conv2): Conv1d(512, 512, kernel_size=(1,), stride=(1,))\n",
      "        (linear1): Linear(in_features=512, out_features=512, bias=True)\n",
      "        (dropout): Dropout(p=0.1, inplace=False)\n",
      "        (linear2): Linear(in_features=512, out_features=512, bias=True)\n",
      "        (norm1): LayerNorm((512,), eps=1e-05, elementwise_affine=True)\n",
      "        (norm2): LayerNorm((512,), eps=1e-05, elementwise_affine=True)\n",
      "        (dropout1): Dropout(p=0.1, inplace=False)\n",
      "        (dropout2): Dropout(p=0.1, inplace=False)\n",
      "        (activation): GELU(approximate='none')\n",
      "      )\n",
      "    )\n",
      "  )\n",
      "  (act): GELU(approximate='none')\n",
      "  (dropout): Dropout(p=0.1, inplace=False)\n",
      "  (dropout1): Dropout(p=0.1, inplace=False)\n",
      "  (output_layer): Linear(in_features=512, out_features=64, bias=False)\n",
      ")\n",
      "epoch  1, training loss: 4.815516, time: 27.1s\n",
      "epoch 10, training loss: 0.912113, time: 27.1s\n",
      "epoch 20, training loss: 0.380895, time: 27.1s\n",
      "epoch 30, training loss: 0.250440, time: 26.7s\n",
      "epoch 40, training loss: 0.189001, time: 26.8s\n",
      "epoch 50, training loss: 0.151215, time: 26.8s\n",
      "epoch 60, training loss: 0.123381, time: 26.8s\n",
      "epoch 70, training loss: 0.103854, time: 26.7s\n",
      "epoch 80, training loss: 0.087865, time: 26.7s\n",
      "epoch 90, training loss: 0.074683, time: 26.8s\n",
      "epoch100, training loss: 0.063876, time: 27.1s\n",
      "Start Inference on the training data...\n"
     ]
    },
    {
     "name": "stderr",
     "output_type": "stream",
     "text": [
      "testing: 100%|████████████████████████████████| 578/578 [03:47<00:00,  2.54it/s]\n",
      "testing: 100%|██████████████████████████████████| 36/36 [00:13<00:00,  2.57it/s]\n"
     ]
    }
   ],
   "source": [
    "clf = DeepSVDDTS()\n",
    "clf.device = torch.device('cpu')\n",
    "clf.fit(train_X)\n",
    "scores = clf.predict(test_X)"
   ]
  },
  {
   "cell_type": "code",
   "execution_count": 12,
   "id": "422e98ff-ce6d-4cf6-990b-42e8ab5ca01c",
   "metadata": {},
   "outputs": [
    {
     "name": "stdout",
     "output_type": "stream",
     "text": [
      "Precision:  0.9445958219800181\n",
      "Recall:  0.8828522920203735\n",
      "f1:  0.912681000438789\n"
     ]
    }
   ],
   "source": [
    "precision = precision_score(test_Y, scores, pos_label=0)\n",
    "recall = recall_score(test_Y, scores, pos_label=0)\n",
    "f1 = f1_score(test_Y, scores, pos_label=0)\n",
    "print(\"Precision: \",precision)\n",
    "print(\"Recall: \",recall)\n",
    "print(\"f1: \",f1)"
   ]
  },
  {
   "cell_type": "code",
   "execution_count": 7,
   "id": "7f5a7545-12b7-466c-9354-303c7a05f337",
   "metadata": {},
   "outputs": [
    {
     "name": "stdout",
     "output_type": "stream",
     "text": [
      "epoch  1, training loss: 872.461337, time: 46.1s\n",
      "epoch  2, training loss: 857.227894, time: 47.4s\n",
      "epoch  3, training loss: 820.690885, time: 47.0s\n",
      "epoch  4, training loss: 830.306050, time: 47.0s\n",
      "epoch  5, training loss: 796.937078, time: 47.4s\n",
      "epoch  6, training loss: 799.920102, time: 48.0s\n",
      "epoch  7, training loss: 783.103460, time: 47.5s\n",
      "epoch  8, training loss: 776.291598, time: 48.3s\n",
      "epoch  9, training loss: 788.334292, time: 47.4s\n",
      "epoch 10, training loss: 779.085544, time: 47.9s\n"
     ]
    }
   ],
   "source": [
    "clf = AnomalyTransformer()\n",
    "clf.device = torch.device('cpu')\n",
    "clf.fit(train_X)\n",
    "scores = clf.predict(test_X)"
   ]
  },
  {
   "cell_type": "code",
   "execution_count": 8,
   "id": "4c477fef-e469-4c85-85a0-f3ef3111f435",
   "metadata": {},
   "outputs": [
    {
     "name": "stdout",
     "output_type": "stream",
     "text": [
      "Precision:  0.6376226197345644\n",
      "Recall:  0.9380305602716469\n",
      "f1:  0.7591892820336654\n"
     ]
    }
   ],
   "source": [
    "precision = precision_score(test_Y, scores, pos_label=0)\n",
    "recall = recall_score(test_Y, scores, pos_label=0)\n",
    "f1 = f1_score(test_Y, scores, pos_label=0)\n",
    "print(\"Precision: \",precision)\n",
    "print(\"Recall: \",recall)\n",
    "print(\"f1: \",f1)"
   ]
  },
  {
   "cell_type": "code",
   "execution_count": 9,
   "id": "cc427627-955b-4e4c-9b1b-5fcff587716a",
   "metadata": {
    "scrolled": true
   },
   "outputs": [
    {
     "name": "stdout",
     "output_type": "stream",
     "text": [
      "Start Training...\n"
     ]
    },
    {
     "name": "stderr",
     "output_type": "stream",
     "text": [
      "  0%|                                                    | 0/50 [00:00<?, ?it/s]/Library/Frameworks/Python.framework/Versions/3.10/lib/python3.10/site-packages/deepod/core/networks/network_utility.py:23: UserWarning: use the first hidden num, the rest hidden numbers are deprecated\n",
      "  warnings.warn('use the first hidden num, '\n",
      "  2%|▊                                         | 1/50 [01:19<1:04:48, 79.35s/it]/Library/Frameworks/Python.framework/Versions/3.10/lib/python3.10/site-packages/deepod/core/networks/network_utility.py:23: UserWarning: use the first hidden num, the rest hidden numbers are deprecated\n",
      "  warnings.warn('use the first hidden num, '\n",
      "  4%|█▋                                        | 2/50 [02:40<1:04:07, 80.15s/it]/Library/Frameworks/Python.framework/Versions/3.10/lib/python3.10/site-packages/deepod/core/networks/network_utility.py:23: UserWarning: use the first hidden num, the rest hidden numbers are deprecated\n",
      "  warnings.warn('use the first hidden num, '\n",
      "  6%|██▌                                       | 3/50 [04:00<1:03:00, 80.44s/it]/Library/Frameworks/Python.framework/Versions/3.10/lib/python3.10/site-packages/deepod/core/networks/network_utility.py:23: UserWarning: use the first hidden num, the rest hidden numbers are deprecated\n",
      "  warnings.warn('use the first hidden num, '\n",
      "  8%|███▎                                      | 4/50 [05:20<1:01:18, 79.98s/it]/Library/Frameworks/Python.framework/Versions/3.10/lib/python3.10/site-packages/deepod/core/networks/network_utility.py:23: UserWarning: use the first hidden num, the rest hidden numbers are deprecated\n",
      "  warnings.warn('use the first hidden num, '\n",
      " 10%|████▍                                       | 5/50 [06:38<59:39, 79.54s/it]/Library/Frameworks/Python.framework/Versions/3.10/lib/python3.10/site-packages/deepod/core/networks/network_utility.py:23: UserWarning: use the first hidden num, the rest hidden numbers are deprecated\n",
      "  warnings.warn('use the first hidden num, '\n",
      " 12%|█████▎                                      | 6/50 [07:58<58:25, 79.68s/it]/Library/Frameworks/Python.framework/Versions/3.10/lib/python3.10/site-packages/deepod/core/networks/network_utility.py:23: UserWarning: use the first hidden num, the rest hidden numbers are deprecated\n",
      "  warnings.warn('use the first hidden num, '\n",
      " 14%|██████▏                                     | 7/50 [09:19<57:18, 79.97s/it]/Library/Frameworks/Python.framework/Versions/3.10/lib/python3.10/site-packages/deepod/core/networks/network_utility.py:23: UserWarning: use the first hidden num, the rest hidden numbers are deprecated\n",
      "  warnings.warn('use the first hidden num, '\n",
      " 16%|███████                                     | 8/50 [10:39<56:02, 80.05s/it]/Library/Frameworks/Python.framework/Versions/3.10/lib/python3.10/site-packages/deepod/core/networks/network_utility.py:23: UserWarning: use the first hidden num, the rest hidden numbers are deprecated\n",
      "  warnings.warn('use the first hidden num, '\n",
      " 18%|███████▉                                    | 9/50 [11:59<54:40, 80.00s/it]/Library/Frameworks/Python.framework/Versions/3.10/lib/python3.10/site-packages/deepod/core/networks/network_utility.py:23: UserWarning: use the first hidden num, the rest hidden numbers are deprecated\n",
      "  warnings.warn('use the first hidden num, '\n",
      " 20%|████████▌                                  | 10/50 [13:19<53:23, 80.10s/it]/Library/Frameworks/Python.framework/Versions/3.10/lib/python3.10/site-packages/deepod/core/networks/network_utility.py:23: UserWarning: use the first hidden num, the rest hidden numbers are deprecated\n",
      "  warnings.warn('use the first hidden num, '\n",
      " 22%|█████████▍                                 | 11/50 [14:40<52:09, 80.24s/it]/Library/Frameworks/Python.framework/Versions/3.10/lib/python3.10/site-packages/deepod/core/networks/network_utility.py:23: UserWarning: use the first hidden num, the rest hidden numbers are deprecated\n",
      "  warnings.warn('use the first hidden num, '\n",
      " 24%|██████████▎                                | 12/50 [16:01<50:54, 80.37s/it]/Library/Frameworks/Python.framework/Versions/3.10/lib/python3.10/site-packages/deepod/core/networks/network_utility.py:23: UserWarning: use the first hidden num, the rest hidden numbers are deprecated\n",
      "  warnings.warn('use the first hidden num, '\n",
      " 26%|███████████▏                               | 13/50 [17:21<49:38, 80.50s/it]/Library/Frameworks/Python.framework/Versions/3.10/lib/python3.10/site-packages/deepod/core/networks/network_utility.py:23: UserWarning: use the first hidden num, the rest hidden numbers are deprecated\n",
      "  warnings.warn('use the first hidden num, '\n",
      " 28%|████████████                               | 14/50 [18:41<48:07, 80.21s/it]/Library/Frameworks/Python.framework/Versions/3.10/lib/python3.10/site-packages/deepod/core/networks/network_utility.py:23: UserWarning: use the first hidden num, the rest hidden numbers are deprecated\n",
      "  warnings.warn('use the first hidden num, '\n",
      " 30%|████████████▉                              | 15/50 [20:01<46:46, 80.20s/it]/Library/Frameworks/Python.framework/Versions/3.10/lib/python3.10/site-packages/deepod/core/networks/network_utility.py:23: UserWarning: use the first hidden num, the rest hidden numbers are deprecated\n",
      "  warnings.warn('use the first hidden num, '\n",
      " 32%|█████████████▊                             | 16/50 [21:21<45:23, 80.11s/it]/Library/Frameworks/Python.framework/Versions/3.10/lib/python3.10/site-packages/deepod/core/networks/network_utility.py:23: UserWarning: use the first hidden num, the rest hidden numbers are deprecated\n",
      "  warnings.warn('use the first hidden num, '\n",
      " 34%|██████████████▌                            | 17/50 [22:40<43:54, 79.84s/it]/Library/Frameworks/Python.framework/Versions/3.10/lib/python3.10/site-packages/deepod/core/networks/network_utility.py:23: UserWarning: use the first hidden num, the rest hidden numbers are deprecated\n",
      "  warnings.warn('use the first hidden num, '\n",
      " 36%|███████████████▍                           | 18/50 [24:01<42:40, 80.01s/it]/Library/Frameworks/Python.framework/Versions/3.10/lib/python3.10/site-packages/deepod/core/networks/network_utility.py:23: UserWarning: use the first hidden num, the rest hidden numbers are deprecated\n",
      "  warnings.warn('use the first hidden num, '\n",
      " 38%|████████████████▎                          | 19/50 [25:21<41:27, 80.23s/it]/Library/Frameworks/Python.framework/Versions/3.10/lib/python3.10/site-packages/deepod/core/networks/network_utility.py:23: UserWarning: use the first hidden num, the rest hidden numbers are deprecated\n",
      "  warnings.warn('use the first hidden num, '\n",
      " 40%|█████████████████▏                         | 20/50 [26:41<40:04, 80.14s/it]/Library/Frameworks/Python.framework/Versions/3.10/lib/python3.10/site-packages/deepod/core/networks/network_utility.py:23: UserWarning: use the first hidden num, the rest hidden numbers are deprecated\n",
      "  warnings.warn('use the first hidden num, '\n",
      " 42%|██████████████████                         | 21/50 [28:01<38:44, 80.16s/it]/Library/Frameworks/Python.framework/Versions/3.10/lib/python3.10/site-packages/deepod/core/networks/network_utility.py:23: UserWarning: use the first hidden num, the rest hidden numbers are deprecated\n",
      "  warnings.warn('use the first hidden num, '\n",
      " 44%|██████████████████▉                        | 22/50 [29:22<37:24, 80.14s/it]/Library/Frameworks/Python.framework/Versions/3.10/lib/python3.10/site-packages/deepod/core/networks/network_utility.py:23: UserWarning: use the first hidden num, the rest hidden numbers are deprecated\n",
      "  warnings.warn('use the first hidden num, '\n",
      " 46%|███████████████████▊                       | 23/50 [30:41<36:00, 80.00s/it]/Library/Frameworks/Python.framework/Versions/3.10/lib/python3.10/site-packages/deepod/core/networks/network_utility.py:23: UserWarning: use the first hidden num, the rest hidden numbers are deprecated\n",
      "  warnings.warn('use the first hidden num, '\n",
      " 48%|████████████████████▋                      | 24/50 [32:02<34:48, 80.33s/it]/Library/Frameworks/Python.framework/Versions/3.10/lib/python3.10/site-packages/deepod/core/networks/network_utility.py:23: UserWarning: use the first hidden num, the rest hidden numbers are deprecated\n",
      "  warnings.warn('use the first hidden num, '\n",
      " 50%|█████████████████████▌                     | 25/50 [33:23<33:30, 80.43s/it]/Library/Frameworks/Python.framework/Versions/3.10/lib/python3.10/site-packages/deepod/core/networks/network_utility.py:23: UserWarning: use the first hidden num, the rest hidden numbers are deprecated\n",
      "  warnings.warn('use the first hidden num, '\n",
      " 52%|██████████████████████▎                    | 26/50 [34:44<32:14, 80.60s/it]/Library/Frameworks/Python.framework/Versions/3.10/lib/python3.10/site-packages/deepod/core/networks/network_utility.py:23: UserWarning: use the first hidden num, the rest hidden numbers are deprecated\n",
      "  warnings.warn('use the first hidden num, '\n",
      " 54%|███████████████████████▏                   | 27/50 [36:06<31:00, 80.89s/it]/Library/Frameworks/Python.framework/Versions/3.10/lib/python3.10/site-packages/deepod/core/networks/network_utility.py:23: UserWarning: use the first hidden num, the rest hidden numbers are deprecated\n",
      "  warnings.warn('use the first hidden num, '\n",
      " 56%|████████████████████████                   | 28/50 [37:26<29:35, 80.70s/it]/Library/Frameworks/Python.framework/Versions/3.10/lib/python3.10/site-packages/deepod/core/networks/network_utility.py:23: UserWarning: use the first hidden num, the rest hidden numbers are deprecated\n",
      "  warnings.warn('use the first hidden num, '\n",
      " 58%|████████████████████████▉                  | 29/50 [38:45<28:07, 80.38s/it]/Library/Frameworks/Python.framework/Versions/3.10/lib/python3.10/site-packages/deepod/core/networks/network_utility.py:23: UserWarning: use the first hidden num, the rest hidden numbers are deprecated\n",
      "  warnings.warn('use the first hidden num, '\n",
      " 60%|█████████████████████████▊                 | 30/50 [40:06<26:49, 80.49s/it]/Library/Frameworks/Python.framework/Versions/3.10/lib/python3.10/site-packages/deepod/core/networks/network_utility.py:23: UserWarning: use the first hidden num, the rest hidden numbers are deprecated\n",
      "  warnings.warn('use the first hidden num, '\n",
      " 62%|██████████████████████████▋                | 31/50 [41:28<25:36, 80.88s/it]/Library/Frameworks/Python.framework/Versions/3.10/lib/python3.10/site-packages/deepod/core/networks/network_utility.py:23: UserWarning: use the first hidden num, the rest hidden numbers are deprecated\n",
      "  warnings.warn('use the first hidden num, '\n",
      " 64%|███████████████████████████▌               | 32/50 [42:48<24:13, 80.75s/it]/Library/Frameworks/Python.framework/Versions/3.10/lib/python3.10/site-packages/deepod/core/networks/network_utility.py:23: UserWarning: use the first hidden num, the rest hidden numbers are deprecated\n",
      "  warnings.warn('use the first hidden num, '\n",
      " 66%|████████████████████████████▍              | 33/50 [44:10<22:58, 81.08s/it]/Library/Frameworks/Python.framework/Versions/3.10/lib/python3.10/site-packages/deepod/core/networks/network_utility.py:23: UserWarning: use the first hidden num, the rest hidden numbers are deprecated\n",
      "  warnings.warn('use the first hidden num, '\n",
      " 68%|█████████████████████████████▏             | 34/50 [45:31<21:35, 80.99s/it]/Library/Frameworks/Python.framework/Versions/3.10/lib/python3.10/site-packages/deepod/core/networks/network_utility.py:23: UserWarning: use the first hidden num, the rest hidden numbers are deprecated\n",
      "  warnings.warn('use the first hidden num, '\n",
      " 70%|██████████████████████████████             | 35/50 [46:52<20:13, 80.90s/it]/Library/Frameworks/Python.framework/Versions/3.10/lib/python3.10/site-packages/deepod/core/networks/network_utility.py:23: UserWarning: use the first hidden num, the rest hidden numbers are deprecated\n",
      "  warnings.warn('use the first hidden num, '\n",
      " 72%|██████████████████████████████▉            | 36/50 [48:12<18:50, 80.73s/it]/Library/Frameworks/Python.framework/Versions/3.10/lib/python3.10/site-packages/deepod/core/networks/network_utility.py:23: UserWarning: use the first hidden num, the rest hidden numbers are deprecated\n",
      "  warnings.warn('use the first hidden num, '\n",
      " 74%|███████████████████████████████▊           | 37/50 [49:34<17:32, 80.99s/it]/Library/Frameworks/Python.framework/Versions/3.10/lib/python3.10/site-packages/deepod/core/networks/network_utility.py:23: UserWarning: use the first hidden num, the rest hidden numbers are deprecated\n",
      "  warnings.warn('use the first hidden num, '\n",
      " 76%|████████████████████████████████▋          | 38/50 [50:56<16:15, 81.28s/it]/Library/Frameworks/Python.framework/Versions/3.10/lib/python3.10/site-packages/deepod/core/networks/network_utility.py:23: UserWarning: use the first hidden num, the rest hidden numbers are deprecated\n",
      "  warnings.warn('use the first hidden num, '\n",
      " 78%|█████████████████████████████████▌         | 39/50 [52:17<14:55, 81.42s/it]/Library/Frameworks/Python.framework/Versions/3.10/lib/python3.10/site-packages/deepod/core/networks/network_utility.py:23: UserWarning: use the first hidden num, the rest hidden numbers are deprecated\n",
      "  warnings.warn('use the first hidden num, '\n",
      " 80%|██████████████████████████████████▍        | 40/50 [53:39<13:34, 81.45s/it]/Library/Frameworks/Python.framework/Versions/3.10/lib/python3.10/site-packages/deepod/core/networks/network_utility.py:23: UserWarning: use the first hidden num, the rest hidden numbers are deprecated\n",
      "  warnings.warn('use the first hidden num, '\n",
      " 82%|███████████████████████████████████▎       | 41/50 [55:01<12:16, 81.79s/it]/Library/Frameworks/Python.framework/Versions/3.10/lib/python3.10/site-packages/deepod/core/networks/network_utility.py:23: UserWarning: use the first hidden num, the rest hidden numbers are deprecated\n",
      "  warnings.warn('use the first hidden num, '\n",
      " 84%|████████████████████████████████████       | 42/50 [56:23<10:53, 81.70s/it]/Library/Frameworks/Python.framework/Versions/3.10/lib/python3.10/site-packages/deepod/core/networks/network_utility.py:23: UserWarning: use the first hidden num, the rest hidden numbers are deprecated\n",
      "  warnings.warn('use the first hidden num, '\n",
      " 86%|████████████████████████████████████▉      | 43/50 [57:43<09:29, 81.30s/it]/Library/Frameworks/Python.framework/Versions/3.10/lib/python3.10/site-packages/deepod/core/networks/network_utility.py:23: UserWarning: use the first hidden num, the rest hidden numbers are deprecated\n",
      "  warnings.warn('use the first hidden num, '\n",
      " 88%|█████████████████████████████████████▊     | 44/50 [59:04<08:06, 81.15s/it]/Library/Frameworks/Python.framework/Versions/3.10/lib/python3.10/site-packages/deepod/core/networks/network_utility.py:23: UserWarning: use the first hidden num, the rest hidden numbers are deprecated\n",
      "  warnings.warn('use the first hidden num, '\n",
      " 90%|████████████████████████████████████▉    | 45/50 [1:00:25<06:44, 81.00s/it]/Library/Frameworks/Python.framework/Versions/3.10/lib/python3.10/site-packages/deepod/core/networks/network_utility.py:23: UserWarning: use the first hidden num, the rest hidden numbers are deprecated\n",
      "  warnings.warn('use the first hidden num, '\n",
      " 92%|█████████████████████████████████████▋   | 46/50 [1:01:47<05:24, 81.22s/it]/Library/Frameworks/Python.framework/Versions/3.10/lib/python3.10/site-packages/deepod/core/networks/network_utility.py:23: UserWarning: use the first hidden num, the rest hidden numbers are deprecated\n",
      "  warnings.warn('use the first hidden num, '\n",
      " 94%|██████████████████████████████████████▌  | 47/50 [1:03:07<04:03, 81.07s/it]/Library/Frameworks/Python.framework/Versions/3.10/lib/python3.10/site-packages/deepod/core/networks/network_utility.py:23: UserWarning: use the first hidden num, the rest hidden numbers are deprecated\n",
      "  warnings.warn('use the first hidden num, '\n",
      " 96%|███████████████████████████████████████▎ | 48/50 [1:04:27<02:41, 80.54s/it]/Library/Frameworks/Python.framework/Versions/3.10/lib/python3.10/site-packages/deepod/core/networks/network_utility.py:23: UserWarning: use the first hidden num, the rest hidden numbers are deprecated\n",
      "  warnings.warn('use the first hidden num, '\n",
      " 98%|████████████████████████████████████████▏| 49/50 [1:05:49<01:20, 80.98s/it]/Library/Frameworks/Python.framework/Versions/3.10/lib/python3.10/site-packages/deepod/core/networks/network_utility.py:23: UserWarning: use the first hidden num, the rest hidden numbers are deprecated\n",
      "  warnings.warn('use the first hidden num, '\n",
      "100%|█████████████████████████████████████████| 50/50 [1:07:10<00:00, 80.60s/it]\n"
     ]
    },
    {
     "name": "stdout",
     "output_type": "stream",
     "text": [
      "Start Inference on the training data...\n",
      "Start Inference...\n"
     ]
    },
    {
     "name": "stderr",
     "output_type": "stream",
     "text": [
      "100%|█████████████████████████████████████████| 50/50 [1:07:51<00:00, 81.44s/it]\n"
     ]
    },
    {
     "name": "stdout",
     "output_type": "stream",
     "text": [
      "Start Inference...\n"
     ]
    },
    {
     "name": "stderr",
     "output_type": "stream",
     "text": [
      "100%|███████████████████████████████████████████| 50/50 [03:15<00:00,  3.91s/it]\n"
     ]
    }
   ],
   "source": [
    "clf = DeepIsolationForestTS()\n",
    "clf.device = torch.device('cpu')\n",
    "clf.fit(train_X)\n",
    "scores = clf.predict(test_X)"
   ]
  },
  {
   "cell_type": "code",
   "execution_count": 10,
   "id": "aaee3f97-6d9a-4080-88c8-96d20ed6ed97",
   "metadata": {},
   "outputs": [
    {
     "name": "stdout",
     "output_type": "stream",
     "text": [
      "Precision:  0.9391602399314481\n",
      "Recall:  0.9303904923599321\n",
      "f1:  0.9347547974413646\n"
     ]
    }
   ],
   "source": [
    "precision = precision_score(test_Y, scores, pos_label=0)\n",
    "recall = recall_score(test_Y, scores, pos_label=0)\n",
    "f1 = f1_score(test_Y, scores, pos_label=0)\n",
    "print(\"Precision: \",precision)\n",
    "print(\"Recall: \",recall)\n",
    "print(\"f1: \",f1)"
   ]
  },
  {
   "cell_type": "code",
   "execution_count": 11,
   "id": "57f99bde-f6ce-4efe-8dee-fe7dba2d19f4",
   "metadata": {},
   "outputs": [
    {
     "name": "stdout",
     "output_type": "stream",
     "text": [
      "221.0\n",
      "228.0\n"
     ]
    }
   ],
   "source": [
    "max_num = 0\n",
    "for i in range(len(normal)):\n",
    "    for j in range(len(normal[i])):\n",
    "        max_num = max(max_num, normal[i][j])\n",
    "print(max_num)\n",
    "for i in range(len(atk)):\n",
    "    for j in range(len(atk[i])):\n",
    "        max_num = max(max_num, atk[i][j])\n",
    "print(max_num)\n",
    "# print(max_len)"
   ]
  },
  {
   "cell_type": "code",
   "execution_count": 6,
   "id": "b7c4825e-448c-4204-930f-415d83b4eb69",
   "metadata": {},
   "outputs": [],
   "source": [
    "K = 229\n",
    "val_X = train_X[30000:]\n",
    "train_X = train_X[:30000]"
   ]
  },
  {
   "cell_type": "code",
   "execution_count": 7,
   "id": "1cdbacfc-8701-4054-900c-4ed05a167445",
   "metadata": {},
   "outputs": [],
   "source": [
    "model = Sequential()\n",
    "model.add(Embedding(input_dim=K, output_dim=400, input_length=None))\n",
    "model.add(LSTM(400, return_sequences=True))\n",
    "model.add(Dropout(0.5))\n",
    "model.add(Dense(K, activation='softmax'))  \n",
    "\n",
    "early_stopping = EarlyStopping(\n",
    "    monitor='val_loss',  # Metric to monitor\n",
    "    patience=3,          # Number of epochs with no improvement after which training will be stopped\n",
    "    restore_best_weights=True  # Restore the model weights from the epoch with the best value of the monitored metric\n",
    ")\n",
    "\n",
    "# Compile the model\n",
    "model.compile(optimizer='adam', loss='sparse_categorical_crossentropy', metrics=['sparse_categorical_crossentropy'])"
   ]
  },
  {
   "cell_type": "code",
   "execution_count": 8,
   "id": "6ca996d5-1009-45f3-885c-11e60e8fceff",
   "metadata": {},
   "outputs": [],
   "source": [
    "def add_train_labels(x):\n",
    "        return x[:-1], x[1:]\n",
    "    \n",
    "train = [add_train_labels(seq) for seq in train_X]\n",
    "val = [add_train_labels(seq) for seq in val_X]\n",
    "\n",
    "train_inputs, train_targets = zip(*train)\n",
    "val_inputs, val_targets = zip(*val)\n",
    "\n",
    "# Convert to numpy arrays\n",
    "train_inputs = np.array(train_inputs)\n",
    "train_targets = np.array(train_targets)\n",
    "val_inputs = np.array(val_inputs)\n",
    "val_targets = np.array(val_targets)"
   ]
  },
  {
   "cell_type": "code",
   "execution_count": 9,
   "id": "6491fb41-c94b-43cd-b4c3-eacd73a78dff",
   "metadata": {},
   "outputs": [
    {
     "name": "stdout",
     "output_type": "stream",
     "text": [
      "Epoch 1/20\n",
      "938/938 - 4640s - loss: 0.2133 - sparse_categorical_crossentropy: 0.2133 - val_loss: 0.0670 - val_sparse_categorical_crossentropy: 0.0670 - 4640s/epoch - 5s/step\n",
      "Epoch 2/20\n",
      "938/938 - 4562s - loss: 0.0469 - sparse_categorical_crossentropy: 0.0469 - val_loss: 0.0273 - val_sparse_categorical_crossentropy: 0.0273 - 4562s/epoch - 5s/step\n",
      "Epoch 3/20\n",
      "938/938 - 4657s - loss: 0.0284 - sparse_categorical_crossentropy: 0.0284 - val_loss: 0.0205 - val_sparse_categorical_crossentropy: 0.0205 - 4657s/epoch - 5s/step\n",
      "Epoch 4/20\n",
      "938/938 - 4737s - loss: 0.0226 - sparse_categorical_crossentropy: 0.0226 - val_loss: 0.0173 - val_sparse_categorical_crossentropy: 0.0173 - 4737s/epoch - 5s/step\n",
      "Epoch 5/20\n"
     ]
    },
    {
     "ename": "KeyboardInterrupt",
     "evalue": "",
     "output_type": "error",
     "traceback": [
      "\u001b[0;31m---------------------------------------------------------------------------\u001b[0m",
      "\u001b[0;31mKeyboardInterrupt\u001b[0m                         Traceback (most recent call last)",
      "Cell \u001b[0;32mIn[9], line 1\u001b[0m\n\u001b[0;32m----> 1\u001b[0m \u001b[43mmodel\u001b[49m\u001b[38;5;241;43m.\u001b[39;49m\u001b[43mfit\u001b[49m\u001b[43m(\u001b[49m\n\u001b[1;32m      2\u001b[0m \u001b[43m            \u001b[49m\u001b[43mtrain_inputs\u001b[49m\u001b[43m,\u001b[49m\n\u001b[1;32m      3\u001b[0m \u001b[43m            \u001b[49m\u001b[43mtrain_targets\u001b[49m\u001b[43m,\u001b[49m\n\u001b[1;32m      4\u001b[0m \u001b[43m            \u001b[49m\u001b[43mvalidation_data\u001b[49m\u001b[38;5;241;43m=\u001b[39;49m\u001b[43m(\u001b[49m\u001b[43mval_inputs\u001b[49m\u001b[43m,\u001b[49m\u001b[43m \u001b[49m\u001b[43mval_targets\u001b[49m\u001b[43m)\u001b[49m\u001b[43m,\u001b[49m\n\u001b[1;32m      5\u001b[0m \u001b[43m            \u001b[49m\u001b[43mepochs\u001b[49m\u001b[38;5;241;43m=\u001b[39;49m\u001b[38;5;241;43m20\u001b[39;49m\u001b[43m,\u001b[49m\n\u001b[1;32m      6\u001b[0m \u001b[43m            \u001b[49m\u001b[43mverbose\u001b[49m\u001b[38;5;241;43m=\u001b[39;49m\u001b[38;5;241;43m2\u001b[39;49m\u001b[43m,\u001b[49m\n\u001b[1;32m      7\u001b[0m \u001b[43m            \u001b[49m\u001b[43mshuffle\u001b[49m\u001b[38;5;241;43m=\u001b[39;49m\u001b[38;5;28;43;01mTrue\u001b[39;49;00m\u001b[43m,\u001b[49m\n\u001b[1;32m      8\u001b[0m \u001b[43m            \u001b[49m\u001b[43mcallbacks\u001b[49m\u001b[38;5;241;43m=\u001b[39;49m\u001b[43m[\u001b[49m\u001b[43mearly_stopping\u001b[49m\u001b[43m]\u001b[49m\u001b[43m,\u001b[49m\n\u001b[1;32m      9\u001b[0m \u001b[43m        \u001b[49m\u001b[43m)\u001b[49m\n",
      "File \u001b[0;32m/Library/Frameworks/Python.framework/Versions/3.10/lib/python3.10/site-packages/keras/src/utils/traceback_utils.py:65\u001b[0m, in \u001b[0;36mfilter_traceback.<locals>.error_handler\u001b[0;34m(*args, **kwargs)\u001b[0m\n\u001b[1;32m     63\u001b[0m filtered_tb \u001b[38;5;241m=\u001b[39m \u001b[38;5;28;01mNone\u001b[39;00m\n\u001b[1;32m     64\u001b[0m \u001b[38;5;28;01mtry\u001b[39;00m:\n\u001b[0;32m---> 65\u001b[0m     \u001b[38;5;28;01mreturn\u001b[39;00m \u001b[43mfn\u001b[49m\u001b[43m(\u001b[49m\u001b[38;5;241;43m*\u001b[39;49m\u001b[43margs\u001b[49m\u001b[43m,\u001b[49m\u001b[43m \u001b[49m\u001b[38;5;241;43m*\u001b[39;49m\u001b[38;5;241;43m*\u001b[39;49m\u001b[43mkwargs\u001b[49m\u001b[43m)\u001b[49m\n\u001b[1;32m     66\u001b[0m \u001b[38;5;28;01mexcept\u001b[39;00m \u001b[38;5;167;01mException\u001b[39;00m \u001b[38;5;28;01mas\u001b[39;00m e:\n\u001b[1;32m     67\u001b[0m     filtered_tb \u001b[38;5;241m=\u001b[39m _process_traceback_frames(e\u001b[38;5;241m.\u001b[39m__traceback__)\n",
      "File \u001b[0;32m/Library/Frameworks/Python.framework/Versions/3.10/lib/python3.10/site-packages/keras/src/engine/training.py:1807\u001b[0m, in \u001b[0;36mModel.fit\u001b[0;34m(self, x, y, batch_size, epochs, verbose, callbacks, validation_split, validation_data, shuffle, class_weight, sample_weight, initial_epoch, steps_per_epoch, validation_steps, validation_batch_size, validation_freq, max_queue_size, workers, use_multiprocessing)\u001b[0m\n\u001b[1;32m   1799\u001b[0m \u001b[38;5;28;01mwith\u001b[39;00m tf\u001b[38;5;241m.\u001b[39mprofiler\u001b[38;5;241m.\u001b[39mexperimental\u001b[38;5;241m.\u001b[39mTrace(\n\u001b[1;32m   1800\u001b[0m     \u001b[38;5;124m\"\u001b[39m\u001b[38;5;124mtrain\u001b[39m\u001b[38;5;124m\"\u001b[39m,\n\u001b[1;32m   1801\u001b[0m     epoch_num\u001b[38;5;241m=\u001b[39mepoch,\n\u001b[0;32m   (...)\u001b[0m\n\u001b[1;32m   1804\u001b[0m     _r\u001b[38;5;241m=\u001b[39m\u001b[38;5;241m1\u001b[39m,\n\u001b[1;32m   1805\u001b[0m ):\n\u001b[1;32m   1806\u001b[0m     callbacks\u001b[38;5;241m.\u001b[39mon_train_batch_begin(step)\n\u001b[0;32m-> 1807\u001b[0m     tmp_logs \u001b[38;5;241m=\u001b[39m \u001b[38;5;28;43mself\u001b[39;49m\u001b[38;5;241;43m.\u001b[39;49m\u001b[43mtrain_function\u001b[49m\u001b[43m(\u001b[49m\u001b[43miterator\u001b[49m\u001b[43m)\u001b[49m\n\u001b[1;32m   1808\u001b[0m     \u001b[38;5;28;01mif\u001b[39;00m data_handler\u001b[38;5;241m.\u001b[39mshould_sync:\n\u001b[1;32m   1809\u001b[0m         context\u001b[38;5;241m.\u001b[39masync_wait()\n",
      "File \u001b[0;32m/Library/Frameworks/Python.framework/Versions/3.10/lib/python3.10/site-packages/tensorflow/python/util/traceback_utils.py:150\u001b[0m, in \u001b[0;36mfilter_traceback.<locals>.error_handler\u001b[0;34m(*args, **kwargs)\u001b[0m\n\u001b[1;32m    148\u001b[0m filtered_tb \u001b[38;5;241m=\u001b[39m \u001b[38;5;28;01mNone\u001b[39;00m\n\u001b[1;32m    149\u001b[0m \u001b[38;5;28;01mtry\u001b[39;00m:\n\u001b[0;32m--> 150\u001b[0m   \u001b[38;5;28;01mreturn\u001b[39;00m \u001b[43mfn\u001b[49m\u001b[43m(\u001b[49m\u001b[38;5;241;43m*\u001b[39;49m\u001b[43margs\u001b[49m\u001b[43m,\u001b[49m\u001b[43m \u001b[49m\u001b[38;5;241;43m*\u001b[39;49m\u001b[38;5;241;43m*\u001b[39;49m\u001b[43mkwargs\u001b[49m\u001b[43m)\u001b[49m\n\u001b[1;32m    151\u001b[0m \u001b[38;5;28;01mexcept\u001b[39;00m \u001b[38;5;167;01mException\u001b[39;00m \u001b[38;5;28;01mas\u001b[39;00m e:\n\u001b[1;32m    152\u001b[0m   filtered_tb \u001b[38;5;241m=\u001b[39m _process_traceback_frames(e\u001b[38;5;241m.\u001b[39m__traceback__)\n",
      "File \u001b[0;32m/Library/Frameworks/Python.framework/Versions/3.10/lib/python3.10/site-packages/tensorflow/python/eager/polymorphic_function/polymorphic_function.py:832\u001b[0m, in \u001b[0;36mFunction.__call__\u001b[0;34m(self, *args, **kwds)\u001b[0m\n\u001b[1;32m    829\u001b[0m compiler \u001b[38;5;241m=\u001b[39m \u001b[38;5;124m\"\u001b[39m\u001b[38;5;124mxla\u001b[39m\u001b[38;5;124m\"\u001b[39m \u001b[38;5;28;01mif\u001b[39;00m \u001b[38;5;28mself\u001b[39m\u001b[38;5;241m.\u001b[39m_jit_compile \u001b[38;5;28;01melse\u001b[39;00m \u001b[38;5;124m\"\u001b[39m\u001b[38;5;124mnonXla\u001b[39m\u001b[38;5;124m\"\u001b[39m\n\u001b[1;32m    831\u001b[0m \u001b[38;5;28;01mwith\u001b[39;00m OptionalXlaContext(\u001b[38;5;28mself\u001b[39m\u001b[38;5;241m.\u001b[39m_jit_compile):\n\u001b[0;32m--> 832\u001b[0m   result \u001b[38;5;241m=\u001b[39m \u001b[38;5;28;43mself\u001b[39;49m\u001b[38;5;241;43m.\u001b[39;49m\u001b[43m_call\u001b[49m\u001b[43m(\u001b[49m\u001b[38;5;241;43m*\u001b[39;49m\u001b[43margs\u001b[49m\u001b[43m,\u001b[49m\u001b[43m \u001b[49m\u001b[38;5;241;43m*\u001b[39;49m\u001b[38;5;241;43m*\u001b[39;49m\u001b[43mkwds\u001b[49m\u001b[43m)\u001b[49m\n\u001b[1;32m    834\u001b[0m new_tracing_count \u001b[38;5;241m=\u001b[39m \u001b[38;5;28mself\u001b[39m\u001b[38;5;241m.\u001b[39mexperimental_get_tracing_count()\n\u001b[1;32m    835\u001b[0m without_tracing \u001b[38;5;241m=\u001b[39m (tracing_count \u001b[38;5;241m==\u001b[39m new_tracing_count)\n",
      "File \u001b[0;32m/Library/Frameworks/Python.framework/Versions/3.10/lib/python3.10/site-packages/tensorflow/python/eager/polymorphic_function/polymorphic_function.py:868\u001b[0m, in \u001b[0;36mFunction._call\u001b[0;34m(self, *args, **kwds)\u001b[0m\n\u001b[1;32m    865\u001b[0m   \u001b[38;5;28mself\u001b[39m\u001b[38;5;241m.\u001b[39m_lock\u001b[38;5;241m.\u001b[39mrelease()\n\u001b[1;32m    866\u001b[0m   \u001b[38;5;66;03m# In this case we have created variables on the first call, so we run the\u001b[39;00m\n\u001b[1;32m    867\u001b[0m   \u001b[38;5;66;03m# defunned version which is guaranteed to never create variables.\u001b[39;00m\n\u001b[0;32m--> 868\u001b[0m   \u001b[38;5;28;01mreturn\u001b[39;00m \u001b[43mtracing_compilation\u001b[49m\u001b[38;5;241;43m.\u001b[39;49m\u001b[43mcall_function\u001b[49m\u001b[43m(\u001b[49m\n\u001b[1;32m    869\u001b[0m \u001b[43m      \u001b[49m\u001b[43margs\u001b[49m\u001b[43m,\u001b[49m\u001b[43m \u001b[49m\u001b[43mkwds\u001b[49m\u001b[43m,\u001b[49m\u001b[43m \u001b[49m\u001b[38;5;28;43mself\u001b[39;49m\u001b[38;5;241;43m.\u001b[39;49m\u001b[43m_no_variable_creation_config\u001b[49m\n\u001b[1;32m    870\u001b[0m \u001b[43m  \u001b[49m\u001b[43m)\u001b[49m\n\u001b[1;32m    871\u001b[0m \u001b[38;5;28;01melif\u001b[39;00m \u001b[38;5;28mself\u001b[39m\u001b[38;5;241m.\u001b[39m_variable_creation_config \u001b[38;5;129;01mis\u001b[39;00m \u001b[38;5;129;01mnot\u001b[39;00m \u001b[38;5;28;01mNone\u001b[39;00m:\n\u001b[1;32m    872\u001b[0m   \u001b[38;5;66;03m# Release the lock early so that multiple threads can perform the call\u001b[39;00m\n\u001b[1;32m    873\u001b[0m   \u001b[38;5;66;03m# in parallel.\u001b[39;00m\n\u001b[1;32m    874\u001b[0m   \u001b[38;5;28mself\u001b[39m\u001b[38;5;241m.\u001b[39m_lock\u001b[38;5;241m.\u001b[39mrelease()\n",
      "File \u001b[0;32m/Library/Frameworks/Python.framework/Versions/3.10/lib/python3.10/site-packages/tensorflow/python/eager/polymorphic_function/tracing_compilation.py:139\u001b[0m, in \u001b[0;36mcall_function\u001b[0;34m(args, kwargs, tracing_options)\u001b[0m\n\u001b[1;32m    137\u001b[0m bound_args \u001b[38;5;241m=\u001b[39m function\u001b[38;5;241m.\u001b[39mfunction_type\u001b[38;5;241m.\u001b[39mbind(\u001b[38;5;241m*\u001b[39margs, \u001b[38;5;241m*\u001b[39m\u001b[38;5;241m*\u001b[39mkwargs)\n\u001b[1;32m    138\u001b[0m flat_inputs \u001b[38;5;241m=\u001b[39m function\u001b[38;5;241m.\u001b[39mfunction_type\u001b[38;5;241m.\u001b[39munpack_inputs(bound_args)\n\u001b[0;32m--> 139\u001b[0m \u001b[38;5;28;01mreturn\u001b[39;00m \u001b[43mfunction\u001b[49m\u001b[38;5;241;43m.\u001b[39;49m\u001b[43m_call_flat\u001b[49m\u001b[43m(\u001b[49m\u001b[43m  \u001b[49m\u001b[38;5;66;43;03m# pylint: disable=protected-access\u001b[39;49;00m\n\u001b[1;32m    140\u001b[0m \u001b[43m    \u001b[49m\u001b[43mflat_inputs\u001b[49m\u001b[43m,\u001b[49m\u001b[43m \u001b[49m\u001b[43mcaptured_inputs\u001b[49m\u001b[38;5;241;43m=\u001b[39;49m\u001b[43mfunction\u001b[49m\u001b[38;5;241;43m.\u001b[39;49m\u001b[43mcaptured_inputs\u001b[49m\n\u001b[1;32m    141\u001b[0m \u001b[43m\u001b[49m\u001b[43m)\u001b[49m\n",
      "File \u001b[0;32m/Library/Frameworks/Python.framework/Versions/3.10/lib/python3.10/site-packages/tensorflow/python/eager/polymorphic_function/concrete_function.py:1323\u001b[0m, in \u001b[0;36mConcreteFunction._call_flat\u001b[0;34m(self, tensor_inputs, captured_inputs)\u001b[0m\n\u001b[1;32m   1319\u001b[0m possible_gradient_type \u001b[38;5;241m=\u001b[39m gradients_util\u001b[38;5;241m.\u001b[39mPossibleTapeGradientTypes(args)\n\u001b[1;32m   1320\u001b[0m \u001b[38;5;28;01mif\u001b[39;00m (possible_gradient_type \u001b[38;5;241m==\u001b[39m gradients_util\u001b[38;5;241m.\u001b[39mPOSSIBLE_GRADIENT_TYPES_NONE\n\u001b[1;32m   1321\u001b[0m     \u001b[38;5;129;01mand\u001b[39;00m executing_eagerly):\n\u001b[1;32m   1322\u001b[0m   \u001b[38;5;66;03m# No tape is watching; skip to running the function.\u001b[39;00m\n\u001b[0;32m-> 1323\u001b[0m   \u001b[38;5;28;01mreturn\u001b[39;00m \u001b[38;5;28;43mself\u001b[39;49m\u001b[38;5;241;43m.\u001b[39;49m\u001b[43m_inference_function\u001b[49m\u001b[38;5;241;43m.\u001b[39;49m\u001b[43mcall_preflattened\u001b[49m\u001b[43m(\u001b[49m\u001b[43margs\u001b[49m\u001b[43m)\u001b[49m\n\u001b[1;32m   1324\u001b[0m forward_backward \u001b[38;5;241m=\u001b[39m \u001b[38;5;28mself\u001b[39m\u001b[38;5;241m.\u001b[39m_select_forward_and_backward_functions(\n\u001b[1;32m   1325\u001b[0m     args,\n\u001b[1;32m   1326\u001b[0m     possible_gradient_type,\n\u001b[1;32m   1327\u001b[0m     executing_eagerly)\n\u001b[1;32m   1328\u001b[0m forward_function, args_with_tangents \u001b[38;5;241m=\u001b[39m forward_backward\u001b[38;5;241m.\u001b[39mforward()\n",
      "File \u001b[0;32m/Library/Frameworks/Python.framework/Versions/3.10/lib/python3.10/site-packages/tensorflow/python/eager/polymorphic_function/atomic_function.py:216\u001b[0m, in \u001b[0;36mAtomicFunction.call_preflattened\u001b[0;34m(self, args)\u001b[0m\n\u001b[1;32m    214\u001b[0m \u001b[38;5;28;01mdef\u001b[39;00m \u001b[38;5;21mcall_preflattened\u001b[39m(\u001b[38;5;28mself\u001b[39m, args: Sequence[core\u001b[38;5;241m.\u001b[39mTensor]) \u001b[38;5;241m-\u001b[39m\u001b[38;5;241m>\u001b[39m Any:\n\u001b[1;32m    215\u001b[0m \u001b[38;5;250m  \u001b[39m\u001b[38;5;124;03m\"\"\"Calls with flattened tensor inputs and returns the structured output.\"\"\"\u001b[39;00m\n\u001b[0;32m--> 216\u001b[0m   flat_outputs \u001b[38;5;241m=\u001b[39m \u001b[38;5;28;43mself\u001b[39;49m\u001b[38;5;241;43m.\u001b[39;49m\u001b[43mcall_flat\u001b[49m\u001b[43m(\u001b[49m\u001b[38;5;241;43m*\u001b[39;49m\u001b[43margs\u001b[49m\u001b[43m)\u001b[49m\n\u001b[1;32m    217\u001b[0m   \u001b[38;5;28;01mreturn\u001b[39;00m \u001b[38;5;28mself\u001b[39m\u001b[38;5;241m.\u001b[39mfunction_type\u001b[38;5;241m.\u001b[39mpack_output(flat_outputs)\n",
      "File \u001b[0;32m/Library/Frameworks/Python.framework/Versions/3.10/lib/python3.10/site-packages/tensorflow/python/eager/polymorphic_function/atomic_function.py:251\u001b[0m, in \u001b[0;36mAtomicFunction.call_flat\u001b[0;34m(self, *args)\u001b[0m\n\u001b[1;32m    249\u001b[0m \u001b[38;5;28;01mwith\u001b[39;00m record\u001b[38;5;241m.\u001b[39mstop_recording():\n\u001b[1;32m    250\u001b[0m   \u001b[38;5;28;01mif\u001b[39;00m \u001b[38;5;28mself\u001b[39m\u001b[38;5;241m.\u001b[39m_bound_context\u001b[38;5;241m.\u001b[39mexecuting_eagerly():\n\u001b[0;32m--> 251\u001b[0m     outputs \u001b[38;5;241m=\u001b[39m \u001b[38;5;28;43mself\u001b[39;49m\u001b[38;5;241;43m.\u001b[39;49m\u001b[43m_bound_context\u001b[49m\u001b[38;5;241;43m.\u001b[39;49m\u001b[43mcall_function\u001b[49m\u001b[43m(\u001b[49m\n\u001b[1;32m    252\u001b[0m \u001b[43m        \u001b[49m\u001b[38;5;28;43mself\u001b[39;49m\u001b[38;5;241;43m.\u001b[39;49m\u001b[43mname\u001b[49m\u001b[43m,\u001b[49m\n\u001b[1;32m    253\u001b[0m \u001b[43m        \u001b[49m\u001b[38;5;28;43mlist\u001b[39;49m\u001b[43m(\u001b[49m\u001b[43margs\u001b[49m\u001b[43m)\u001b[49m\u001b[43m,\u001b[49m\n\u001b[1;32m    254\u001b[0m \u001b[43m        \u001b[49m\u001b[38;5;28;43mlen\u001b[39;49m\u001b[43m(\u001b[49m\u001b[38;5;28;43mself\u001b[39;49m\u001b[38;5;241;43m.\u001b[39;49m\u001b[43mfunction_type\u001b[49m\u001b[38;5;241;43m.\u001b[39;49m\u001b[43mflat_outputs\u001b[49m\u001b[43m)\u001b[49m\u001b[43m,\u001b[49m\n\u001b[1;32m    255\u001b[0m \u001b[43m    \u001b[49m\u001b[43m)\u001b[49m\n\u001b[1;32m    256\u001b[0m   \u001b[38;5;28;01melse\u001b[39;00m:\n\u001b[1;32m    257\u001b[0m     outputs \u001b[38;5;241m=\u001b[39m make_call_op_in_graph(\n\u001b[1;32m    258\u001b[0m         \u001b[38;5;28mself\u001b[39m,\n\u001b[1;32m    259\u001b[0m         \u001b[38;5;28mlist\u001b[39m(args),\n\u001b[1;32m    260\u001b[0m         \u001b[38;5;28mself\u001b[39m\u001b[38;5;241m.\u001b[39m_bound_context\u001b[38;5;241m.\u001b[39mfunction_call_options\u001b[38;5;241m.\u001b[39mas_attrs(),\n\u001b[1;32m    261\u001b[0m     )\n",
      "File \u001b[0;32m/Library/Frameworks/Python.framework/Versions/3.10/lib/python3.10/site-packages/tensorflow/python/eager/context.py:1486\u001b[0m, in \u001b[0;36mContext.call_function\u001b[0;34m(self, name, tensor_inputs, num_outputs)\u001b[0m\n\u001b[1;32m   1484\u001b[0m cancellation_context \u001b[38;5;241m=\u001b[39m cancellation\u001b[38;5;241m.\u001b[39mcontext()\n\u001b[1;32m   1485\u001b[0m \u001b[38;5;28;01mif\u001b[39;00m cancellation_context \u001b[38;5;129;01mis\u001b[39;00m \u001b[38;5;28;01mNone\u001b[39;00m:\n\u001b[0;32m-> 1486\u001b[0m   outputs \u001b[38;5;241m=\u001b[39m \u001b[43mexecute\u001b[49m\u001b[38;5;241;43m.\u001b[39;49m\u001b[43mexecute\u001b[49m\u001b[43m(\u001b[49m\n\u001b[1;32m   1487\u001b[0m \u001b[43m      \u001b[49m\u001b[43mname\u001b[49m\u001b[38;5;241;43m.\u001b[39;49m\u001b[43mdecode\u001b[49m\u001b[43m(\u001b[49m\u001b[38;5;124;43m\"\u001b[39;49m\u001b[38;5;124;43mutf-8\u001b[39;49m\u001b[38;5;124;43m\"\u001b[39;49m\u001b[43m)\u001b[49m\u001b[43m,\u001b[49m\n\u001b[1;32m   1488\u001b[0m \u001b[43m      \u001b[49m\u001b[43mnum_outputs\u001b[49m\u001b[38;5;241;43m=\u001b[39;49m\u001b[43mnum_outputs\u001b[49m\u001b[43m,\u001b[49m\n\u001b[1;32m   1489\u001b[0m \u001b[43m      \u001b[49m\u001b[43minputs\u001b[49m\u001b[38;5;241;43m=\u001b[39;49m\u001b[43mtensor_inputs\u001b[49m\u001b[43m,\u001b[49m\n\u001b[1;32m   1490\u001b[0m \u001b[43m      \u001b[49m\u001b[43mattrs\u001b[49m\u001b[38;5;241;43m=\u001b[39;49m\u001b[43mattrs\u001b[49m\u001b[43m,\u001b[49m\n\u001b[1;32m   1491\u001b[0m \u001b[43m      \u001b[49m\u001b[43mctx\u001b[49m\u001b[38;5;241;43m=\u001b[39;49m\u001b[38;5;28;43mself\u001b[39;49m\u001b[43m,\u001b[49m\n\u001b[1;32m   1492\u001b[0m \u001b[43m  \u001b[49m\u001b[43m)\u001b[49m\n\u001b[1;32m   1493\u001b[0m \u001b[38;5;28;01melse\u001b[39;00m:\n\u001b[1;32m   1494\u001b[0m   outputs \u001b[38;5;241m=\u001b[39m execute\u001b[38;5;241m.\u001b[39mexecute_with_cancellation(\n\u001b[1;32m   1495\u001b[0m       name\u001b[38;5;241m.\u001b[39mdecode(\u001b[38;5;124m\"\u001b[39m\u001b[38;5;124mutf-8\u001b[39m\u001b[38;5;124m\"\u001b[39m),\n\u001b[1;32m   1496\u001b[0m       num_outputs\u001b[38;5;241m=\u001b[39mnum_outputs,\n\u001b[0;32m   (...)\u001b[0m\n\u001b[1;32m   1500\u001b[0m       cancellation_manager\u001b[38;5;241m=\u001b[39mcancellation_context,\n\u001b[1;32m   1501\u001b[0m   )\n",
      "File \u001b[0;32m/Library/Frameworks/Python.framework/Versions/3.10/lib/python3.10/site-packages/tensorflow/python/eager/execute.py:53\u001b[0m, in \u001b[0;36mquick_execute\u001b[0;34m(op_name, num_outputs, inputs, attrs, ctx, name)\u001b[0m\n\u001b[1;32m     51\u001b[0m \u001b[38;5;28;01mtry\u001b[39;00m:\n\u001b[1;32m     52\u001b[0m   ctx\u001b[38;5;241m.\u001b[39mensure_initialized()\n\u001b[0;32m---> 53\u001b[0m   tensors \u001b[38;5;241m=\u001b[39m \u001b[43mpywrap_tfe\u001b[49m\u001b[38;5;241;43m.\u001b[39;49m\u001b[43mTFE_Py_Execute\u001b[49m\u001b[43m(\u001b[49m\u001b[43mctx\u001b[49m\u001b[38;5;241;43m.\u001b[39;49m\u001b[43m_handle\u001b[49m\u001b[43m,\u001b[49m\u001b[43m \u001b[49m\u001b[43mdevice_name\u001b[49m\u001b[43m,\u001b[49m\u001b[43m \u001b[49m\u001b[43mop_name\u001b[49m\u001b[43m,\u001b[49m\n\u001b[1;32m     54\u001b[0m \u001b[43m                                      \u001b[49m\u001b[43minputs\u001b[49m\u001b[43m,\u001b[49m\u001b[43m \u001b[49m\u001b[43mattrs\u001b[49m\u001b[43m,\u001b[49m\u001b[43m \u001b[49m\u001b[43mnum_outputs\u001b[49m\u001b[43m)\u001b[49m\n\u001b[1;32m     55\u001b[0m \u001b[38;5;28;01mexcept\u001b[39;00m core\u001b[38;5;241m.\u001b[39m_NotOkStatusException \u001b[38;5;28;01mas\u001b[39;00m e:\n\u001b[1;32m     56\u001b[0m   \u001b[38;5;28;01mif\u001b[39;00m name \u001b[38;5;129;01mis\u001b[39;00m \u001b[38;5;129;01mnot\u001b[39;00m \u001b[38;5;28;01mNone\u001b[39;00m:\n",
      "\u001b[0;31mKeyboardInterrupt\u001b[0m: "
     ]
    }
   ],
   "source": [
    "model.fit(\n",
    "            train_inputs,\n",
    "            train_targets,\n",
    "            validation_data=(val_inputs, val_targets),\n",
    "            epochs=20,\n",
    "            verbose=2,\n",
    "            shuffle=True,\n",
    "            callbacks=[early_stopping],\n",
    "        )"
   ]
  },
  {
   "cell_type": "code",
   "execution_count": 16,
   "id": "0d1f10d3-4976-414c-a0c7-b612bfcfaf72",
   "metadata": {},
   "outputs": [
    {
     "name": "stdout",
     "output_type": "stream",
     "text": [
      "219/219 [==============================] - 492s 2s/step\n",
      "47.29902958869934\n"
     ]
    }
   ],
   "source": [
    "val = val_X\n",
    "y_val = model.predict(val)\n",
    "sums_val = np.array([-np.log(pred.max(axis=-1)).sum(axis=-1) for pred in y_val])\n",
    "threshold = np.mean(sums_val) + 2*np.std(sums_val)\n",
    "print(threshold)"
   ]
  },
  {
   "cell_type": "code",
   "execution_count": 18,
   "id": "65c84c13-29e1-4077-8467-5df20d2b63c6",
   "metadata": {},
   "outputs": [
    {
     "name": "stdout",
     "output_type": "stream",
     "text": [
      "2323\n",
      "73/73 [==============================] - 168s 2s/step\n"
     ]
    }
   ],
   "source": [
    "test = test_X\n",
    "print(len(test))\n",
    "y_pred = model.predict(test)\n",
    "sums = np.array([-np.log(pred.max(axis=-1)).sum(axis=-1) for pred in y_pred])"
   ]
  },
  {
   "cell_type": "code",
   "execution_count": 21,
   "id": "ea949123-5b1a-4bff-a363-f6c5caa84643",
   "metadata": {},
   "outputs": [
    {
     "name": "stdout",
     "output_type": "stream",
     "text": [
      "1361\n",
      "2323\n",
      "0.5858803271631511\n"
     ]
    }
   ],
   "source": [
    "threshold = np.mean(sums_val) + np.std(sums_val)\n",
    "successes = 0\n",
    "total = len(test)\n",
    "pred = []\n",
    "norms_len = total - len(atk)\n",
    "testY = []\n",
    "for i in range(total):\n",
    "    if sums[i] <= threshold:\n",
    "        pred.append(0)\n",
    "    else:\n",
    "        pred.append(1)\n",
    "    if i < norms_len:\n",
    "        testY.append(0)\n",
    "        if sums[i] <= threshold:\n",
    "            successes += 1\n",
    "    else:\n",
    "        testY.append(1)\n",
    "        if sums[i] > threshold:\n",
    "            successes += 1\n",
    "print(successes)\n",
    "print(total)\n",
    "print(successes / total)"
   ]
  },
  {
   "cell_type": "code",
   "execution_count": 22,
   "id": "2629c813-662a-4f9a-bbe2-d85f8332cb09",
   "metadata": {},
   "outputs": [
    {
     "name": "stdout",
     "output_type": "stream",
     "text": [
      "Precision:  0.5514775977121068\n",
      "Recall:  0.9821731748726655\n",
      "f1:  0.7063492063492064\n"
     ]
    }
   ],
   "source": [
    "precision = precision_score(testY, pred, pos_label=0)\n",
    "recall = recall_score(testY, pred, pos_label=0)\n",
    "f1 = f1_score(testY, pred, pos_label=0)\n",
    "print(\"Precision: \",precision)\n",
    "print(\"Recall: \",recall)\n",
    "print(\"f1: \",f1)"
   ]
  },
  {
   "cell_type": "code",
   "execution_count": null,
   "id": "7b6ba661-bcc5-4b8f-98b2-73a194cf65ea",
   "metadata": {},
   "outputs": [],
   "source": []
  }
 ],
 "metadata": {
  "kernelspec": {
   "display_name": "Python 3 (ipykernel)",
   "language": "python",
   "name": "python3"
  },
  "language_info": {
   "codemirror_mode": {
    "name": "ipython",
    "version": 3
   },
   "file_extension": ".py",
   "mimetype": "text/x-python",
   "name": "python",
   "nbconvert_exporter": "python",
   "pygments_lexer": "ipython3",
   "version": "3.10.5"
  }
 },
 "nbformat": 4,
 "nbformat_minor": 5
}
